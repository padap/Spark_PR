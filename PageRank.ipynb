{
 "cells": [
  {
   "cell_type": "code",
   "execution_count": 1,
   "metadata": {
    "collapsed": true
   },
   "outputs": [],
   "source": [
    "import re\n",
    "import sys\n",
    "from operator import add\n",
    "from pyspark.sql import SparkSession\n",
    "from pyspark import SparkContext\n",
    "\n",
    "spark = SparkSession\\\n",
    "    .builder\\\n",
    "    .appName(\"PythonSparkPR\")\\\n",
    "    .getOrCreate()\n",
    "\n"
   ]
  },
  {
   "cell_type": "code",
   "execution_count": 3,
   "metadata": {
    "collapsed": false,
    "scrolled": true
   },
   "outputs": [
    {
     "name": "stdout",
     "output_type": "stream",
     "text": [
      "PR(0) = 0.0544647621943.\n",
      "PR(1) = 0.0372670807453.\n",
      "PR(2) = 0.116598319639.\n",
      "PR(3) = 0.243636190482.\n",
      "PR(4) = 0.210599999716.\n",
      "PR(5) = 0.0372670807453.\n",
      "PR(6) = 0.30194115446.\n"
     ]
    }
   ],
   "source": [
    "FILEIN = \"test.txt\"\n",
    "ITERATIONNUMBER = 50\n",
    "\n",
    "\n",
    "def part_of_PR(urls, rank):\n",
    "#   new part of PageRank  \n",
    "    num_urls = len(urls)\n",
    "    for url in urls:\n",
    "        yield (url, rank / num_urls)\n",
    "        \n",
    "def printRDD(rdd):\n",
    "#   debugging function\n",
    "    try:\n",
    "        rdd.toDF().show()\n",
    "    except:\n",
    "        print(\"can't print\")\n",
    "        \n",
    "# Load data in formar \n",
    "# id1\\tid2\n",
    "# id1    id3\n",
    "# idn    idk\n",
    "lines     = spark.read.text(FILEIN).rdd\n",
    "\n",
    "# Build Matrix \n",
    "# _1/_2\n",
    "# 1:[2,3,4]\n",
    "# 2:[1,2]\n",
    "# ...\n",
    "matrix_urls = lines.map(lambda urls: re.split(r'\\s+', urls[0])).groupByKey()\n",
    "N = matrix_urls.count()\n",
    "\n",
    "# build Rank\n",
    "# _1/_2\n",
    "# 1:1\n",
    "# 2:1\n",
    "# 3:1\n",
    "# ...\n",
    "ranks = matrix_urls.map(lambda matrix_urls : (matrix_urls[0], 1.0))\n",
    "\n",
    "for iteration in xrange(ITERATIONNUMBER):\n",
    "        ranks = matrix_urls\\\n",
    "        .join(ranks)\\\n",
    "        .flatMap(\n",
    "            lambda (url, (urls, rank)): part_of_PR(urls, rank))\\\n",
    "        .reduceByKey(add)\\\n",
    "        .mapValues(\n",
    "            lambda part_of_PR: part_of_PR * 0.85 + 0.15/N)\n",
    "\n",
    "for (link, rank) in sorted(ranks.collect(), key = lambda x:int(x[0])):\n",
    "    print(\"PR(%s) = %s.\" % (link, rank*1.0))\n",
    "    "
   ]
  },
  {
   "cell_type": "code",
   "execution_count": null,
   "metadata": {
    "collapsed": true
   },
   "outputs": [],
   "source": []
  }
 ],
 "metadata": {
  "kernelspec": {
   "display_name": "Python 2",
   "language": "python",
   "name": "python2"
  },
  "language_info": {
   "codemirror_mode": {
    "name": "ipython",
    "version": 2
   },
   "file_extension": ".py",
   "mimetype": "text/x-python",
   "name": "python",
   "nbconvert_exporter": "python",
   "pygments_lexer": "ipython2",
   "version": "2.7.12"
  }
 },
 "nbformat": 4,
 "nbformat_minor": 1
}
